{
 "cells": [
  {
   "cell_type": "code",
   "execution_count": 1,
   "metadata": {},
   "outputs": [],
   "source": [
    "%load_ext autoreload\n",
    "%autoreload 2\n",
    "#%matplotlib tk"
   ]
  },
  {
   "cell_type": "code",
   "execution_count": 10,
   "metadata": {},
   "outputs": [],
   "source": [
    "import unstructured_airfoil_mesh_inverter as meshinv\n",
    "import Basis\n",
    "import NURBS_patch\n",
    "import matplotlib.pyplot as plt\n",
    "import numpy as np\n",
    "import sys\n",
    "import math\n",
    "from tqdm import tnrange, tqdm_notebook"
   ]
  },
  {
   "cell_type": "code",
   "execution_count": 11,
   "metadata": {},
   "outputs": [],
   "source": [
    "CONST_INPUT_MSH_FILE = \"NACA0012_unstructured_mesh/NACA0012.msh\"\n",
    "CONST_NURBS_PATCH_FILE = \"/Users/jm-034232/Documents/McGill/Research/DPGSolver/input/input_files/euler/steady/NURBS_Airfoil/geometry_parameters_NACA0012_tests_reference.geo\""
   ]
  },
  {
   "cell_type": "code",
   "execution_count": 12,
   "metadata": {},
   "outputs": [],
   "source": [
    "node_list, elements_dict = meshinv.read_mesh_file(CONST_INPUT_MSH_FILE)\n",
    "\n",
    "patch_information = meshinv.read_patch_file(CONST_NURBS_PATCH_FILE)\n",
    "\n",
    "R_ij = Basis.get_NURBS_basis_functions(patch_information[\"Control_Points_and_Weights\"], \n",
    "    patch_information[\"P\"], patch_information[\"Q\"], patch_information[\"xiVector\"], \n",
    "    patch_information[\"etaVector\"])\n",
    "\n",
    "R_ij_grad = Basis.get_grad_NURBS_basis_functions(patch_information[\"Control_Points_and_Weights\"], \n",
    "    patch_information[\"P\"], patch_information[\"Q\"], patch_information[\"xiVector\"], \n",
    "    patch_information[\"etaVector\"])\n",
    "\n",
    "numI = len(patch_information[\"Control_Points_and_Weights\"])\n",
    "numJ = len(patch_information[\"Control_Points_and_Weights\"][0])\n",
    "\n",
    "R_ij_grad_xi, R_ij_grad_eta = [], []\n",
    "\n",
    "for i in range(numI):\n",
    "    row1, row2 = [], []\n",
    "\n",
    "    for j in range(numJ):\n",
    "        row1.append(R_ij_grad[i][j][0])\n",
    "        row2.append(R_ij_grad[i][j][1])\n",
    "\n",
    "    R_ij_grad_xi.append(row1)\n",
    "    R_ij_grad_eta.append(row2)\n",
    "\n",
    "\n",
    "nurbs_patch = lambda xi, eta: NURBS_patch.NURBS_patch(xi, eta, \n",
    "    patch_information[\"Control_Points_and_Weights\"], R_ij)\n",
    "\n",
    "nurbs_patch_grad_xi = lambda xi, eta: NURBS_patch.NURBS_patch(xi, eta, \n",
    "    patch_information[\"Control_Points_and_Weights\"], R_ij_grad_xi)\n",
    "\n",
    "nurbs_patch_grad_eta = lambda xi, eta: NURBS_patch.NURBS_patch(xi, eta, \n",
    "    patch_information[\"Control_Points_and_Weights\"], R_ij_grad_eta)\n",
    "\n",
    "\n",
    "guess_pt_grid = meshinv.initialize_guess_point_grid(nurbs_patch)"
   ]
  },
  {
   "cell_type": "code",
   "execution_count": 13,
   "metadata": {},
   "outputs": [
    {
     "data": {
      "application/vnd.jupyter.widget-view+json": {
       "model_id": "d091cf4d0b354199ab2b2c2f092b9ea0",
       "version_major": 2,
       "version_minor": 0
      },
      "text/plain": [
       "HBox(children=(IntProgress(value=0, max=6684), HTML(value=u'')))"
      ]
     },
     "metadata": {},
     "output_type": "display_data"
    },
    {
     "name": "stdout",
     "output_type": "stream",
     "text": [
      "\n"
     ]
    },
    {
     "ename": "NameError",
     "evalue": "name 'invert_physical_point' is not defined",
     "output_type": "error",
     "traceback": [
      "\u001b[0;31m---------------------------------------------------------------------------\u001b[0m",
      "\u001b[0;31mNameError\u001b[0m                                 Traceback (most recent call last)",
      "\u001b[0;32m<ipython-input-13-48277298325d>\u001b[0m in \u001b[0;36m<module>\u001b[0;34m()\u001b[0m\n\u001b[1;32m      6\u001b[0m \u001b[0;34m\u001b[0m\u001b[0m\n\u001b[1;32m      7\u001b[0m     \u001b[0mpt_physical\u001b[0m \u001b[0;34m=\u001b[0m \u001b[0mnode_list\u001b[0m\u001b[0;34m[\u001b[0m\u001b[0mi\u001b[0m\u001b[0;34m]\u001b[0m\u001b[0;34m.\u001b[0m\u001b[0mpt_physical\u001b[0m\u001b[0;34m\u001b[0m\u001b[0m\n\u001b[0;32m----> 8\u001b[0;31m     \u001b[0mxi_point\u001b[0m \u001b[0;34m=\u001b[0m \u001b[0minvert_physical_point\u001b[0m\u001b[0;34m(\u001b[0m\u001b[0mguess_pt_grid\u001b[0m\u001b[0;34m,\u001b[0m \u001b[0mpt_physical\u001b[0m\u001b[0;34m,\u001b[0m \u001b[0mnurbs_patch\u001b[0m\u001b[0;34m,\u001b[0m \u001b[0mnurbs_patch_grad_xi\u001b[0m\u001b[0;34m,\u001b[0m \u001b[0mnurbs_patch_grad_eta\u001b[0m\u001b[0;34m)\u001b[0m\u001b[0;34m\u001b[0m\u001b[0m\n\u001b[0m",
      "\u001b[0;31mNameError\u001b[0m: name 'invert_physical_point' is not defined"
     ]
    }
   ],
   "source": [
    "\n",
    "# Invert the node elements.\n",
    "# - Try inverting all the points together\n",
    "\n",
    "for i in tnrange(len(node_list)):\n",
    "    \n",
    "    pt_physical = node_list[i].pt_physical\n",
    "    xi_point = meshinv.invert_physical_point(guess_pt_grid, pt_physical, nurbs_patch, nurbs_patch_grad_xi, nurbs_patch_grad_eta)\n"
   ]
  },
  {
   "cell_type": "code",
   "execution_count": null,
   "metadata": {},
   "outputs": [],
   "source": []
  }
 ],
 "metadata": {
  "kernelspec": {
   "display_name": "Python 2",
   "language": "python",
   "name": "python2"
  },
  "language_info": {
   "codemirror_mode": {
    "name": "ipython",
    "version": 2
   },
   "file_extension": ".py",
   "mimetype": "text/x-python",
   "name": "python",
   "nbconvert_exporter": "python",
   "pygments_lexer": "ipython2",
   "version": "2.7.15"
  }
 },
 "nbformat": 4,
 "nbformat_minor": 2
}
